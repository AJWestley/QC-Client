{
 "cells": [
  {
   "cell_type": "code",
   "execution_count": 10,
   "id": "9a82bfc5",
   "metadata": {},
   "outputs": [],
   "source": [
    "from api.quantum_client import API\n",
    "\n",
    "api = API()\n",
    "api.connect()"
   ]
  },
  {
   "cell_type": "code",
   "execution_count": 16,
   "id": "f39c2062",
   "metadata": {},
   "outputs": [
    {
     "name": "stdout",
     "output_type": "stream",
     "text": [
      "({'error': 'Expecting value: line 1 column 1 (char 0)'}, 503)\n"
     ]
    }
   ],
   "source": [
    "qasm_code = \"\"\"\n",
    "OPENQASM 2.0;\n",
    "include \"qelib1.inc\";\n",
    "\n",
    "qreg q[2];\n",
    "creg c[2];\n",
    "\n",
    "h q[0];\n",
    "cx q[0], q[1];\n",
    "t q[0];\n",
    "s q[0];\n",
    "rx(0.785398) q[0];\n",
    "rz(1.570796) q[1];\n",
    "\n",
    "measure q[0] -> c[0];\n",
    "measure q[1] -> c[1];\n",
    "\"\"\"\n",
    "\n",
    "result = api.execute(qasm_code)\n",
    "print(result)"
   ]
  },
  {
   "cell_type": "code",
   "execution_count": 9,
   "id": "7fbb6c6d",
   "metadata": {},
   "outputs": [
    {
     "data": {
      "text/plain": [
       "({'message': 'Success', 'num_qubits': 10}, 200)"
      ]
     },
     "execution_count": 9,
     "metadata": {},
     "output_type": "execute_result"
    }
   ],
   "source": [
    "api.set_qubits(10)"
   ]
  }
 ],
 "metadata": {
  "kernelspec": {
   "display_name": "Python 3",
   "language": "python",
   "name": "python3"
  },
  "language_info": {
   "codemirror_mode": {
    "name": "ipython",
    "version": 3
   },
   "file_extension": ".py",
   "mimetype": "text/x-python",
   "name": "python",
   "nbconvert_exporter": "python",
   "pygments_lexer": "ipython3",
   "version": "3.10.11"
  }
 },
 "nbformat": 4,
 "nbformat_minor": 5
}
